{
 "cells": [
  {
   "cell_type": "markdown",
   "id": "ce239c83-23d4-4fb3-ad34-b26f4c8e70ba",
   "metadata": {},
   "source": [
    "# Data Science Tools and Ecosystem"
   ]
  },
  {
   "cell_type": "markdown",
   "id": "7f97a472-3942-444b-a104-089a45337d3f",
   "metadata": {},
   "source": [
    "In this notebook, Data Science Tools and Ecosystem are summarized."
   ]
  },
  {
   "cell_type": "markdown",
   "id": "de3aec33-2154-4583-a615-1c46e12664ea",
   "metadata": {
    "tags": []
   },
   "source": [
    "**Objectives:**\n",
    "- Inserting markdown cells\n",
    "- Inserting code cells\n",
    "- Listing popular languages for Data Science\n",
    "- Listing libraries for Data Science\n",
    "\n",
    "## Author:\n",
    "Dominik Freinhofer"
   ]
  },
  {
   "cell_type": "markdown",
   "id": "da2ae218-e324-4e75-b813-a908de508641",
   "metadata": {
    "tags": []
   },
   "source": [
    "Some of the popular langugaes that Data Scientists use are:\n",
    "1. Python\n",
    "2. R\n",
    "3. JavaScript"
   ]
  },
  {
   "cell_type": "markdown",
   "id": "affb052d-7091-4cab-837d-0cfac92468ad",
   "metadata": {},
   "source": [
    "Some of the commonly used libraries used by Data Scientists include:\n",
    "1. NumPy\n",
    "2. Pandas\n",
    "3. Keras"
   ]
  },
  {
   "cell_type": "markdown",
   "id": "65dc2871-4e8d-48ef-a7f7-276828b4d6be",
   "metadata": {
    "tags": []
   },
   "source": [
    "|Data Science Tools|\n",
    "|------|\n",
    "|Jupyter Notebooks|\n",
    "|RStudio|\n",
    "|VS Code|"
   ]
  },
  {
   "cell_type": "markdown",
   "id": "3226a59d-4f53-4f56-87d6-d50df83a9afa",
   "metadata": {},
   "source": [
    "### Below are a few examples of evaluating arithmetic expressions in Python."
   ]
  },
  {
   "cell_type": "code",
   "execution_count": 3,
   "id": "3d3247f7-c920-45f5-b146-08385342bdab",
   "metadata": {
    "tags": []
   },
   "outputs": [
    {
     "data": {
      "text/plain": [
       "17"
      ]
     },
     "execution_count": 3,
     "metadata": {},
     "output_type": "execute_result"
    }
   ],
   "source": [
    "# This is a simple arithmetic expression to multiply then add integers.\n",
    "\n",
    "(3*4)+5"
   ]
  },
  {
   "cell_type": "code",
   "execution_count": 8,
   "id": "4d65d36b-efec-4611-b11b-02bbb15de61b",
   "metadata": {
    "tags": []
   },
   "outputs": [
    {
     "name": "stdout",
     "output_type": "stream",
     "text": [
      "3.3333333333333335\n"
     ]
    }
   ],
   "source": [
    "# This will convert 200 minutes to hours by dividing by 60.\n",
    "\n",
    "hour = 60\n",
    "minutes = 200 \n",
    "\n",
    "print(minutes/hour)"
   ]
  },
  {
   "cell_type": "markdown",
   "id": "22dc853b-6e51-484f-b609-41120c6bca7b",
   "metadata": {},
   "source": []
  }
 ],
 "metadata": {
  "kernelspec": {
   "display_name": "Python 3 (ipykernel)",
   "language": "python",
   "name": "python3"
  },
  "language_info": {
   "codemirror_mode": {
    "name": "ipython",
    "version": 3
   },
   "file_extension": ".py",
   "mimetype": "text/x-python",
   "name": "python",
   "nbconvert_exporter": "python",
   "pygments_lexer": "ipython3",
   "version": "3.11.5"
  }
 },
 "nbformat": 4,
 "nbformat_minor": 5
}
